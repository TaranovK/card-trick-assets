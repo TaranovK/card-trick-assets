{
 "cells": [
  {
   "cell_type": "markdown",
   "metadata": {},
   "source": [
    "# <center> Beautiful Card Trick </center> \n",
    "# <center> Gergonne's Magic Trick </center>"
   ]
  },
  {
   "cell_type": "code",
   "execution_count": 1,
   "metadata": {
    "collapsed": false
   },
   "outputs": [
    {
     "name": "stdout",
     "output_type": "stream",
     "text": [
      "How many times do you want to make a choice?\n",
      "2\n",
      "How many options do you want to have each time?\n",
      "4\n"
     ]
    }
   ],
   "source": [
    "# your trick settings\n",
    "# \"choices\" represents the number of times cards are dealt \n",
    "print(\"How many times do you want to make a choice?\")\n",
    "choices = int(input())\n",
    "# \"options\" represents the number of piles\n",
    "print(\"How many options do you want to have each time?\")\n",
    "options = int(input())"
   ]
  },
  {
   "cell_type": "code",
   "execution_count": 2,
   "metadata": {
    "collapsed": false
   },
   "outputs": [],
   "source": [
    "import numpy as np\n",
    "def create_random_deck(deck_size, min_value = 0x25CD, max_value = 0x2713):\n",
    "    deck_int = set()\n",
    "    deck_vis = []\n",
    "    while (len(deck_int) < deck_size):  \n",
    "        deck_int.add( np.random.randint(low=min_value,high=max_value) )\n",
    "    for num in deck_int:\n",
    "        deck_vis.append(chr(num))\n",
    "    return deck_vis"
   ]
  },
  {
   "cell_type": "code",
   "execution_count": 3,
   "metadata": {
    "collapsed": false
   },
   "outputs": [
    {
     "name": "stdout",
     "output_type": "stream",
     "text": [
      "Your current settings are: \n",
      "2 - choices \n",
      "4 - options each\n",
      "Total deck size is  16\n"
     ]
    }
   ],
   "source": [
    "deck_size = options**choices\n",
    "print(\"Your current settings are: \")\n",
    "print(str(choices) + \" - choices \")\n",
    "print(str(options) + \" - options each\")\n",
    "print(\"Total deck size is  \" + str(deck_size))"
   ]
  },
  {
   "cell_type": "code",
   "execution_count": 4,
   "metadata": {
    "collapsed": false
   },
   "outputs": [
    {
     "name": "stdout",
     "output_type": "stream",
     "text": [
      "Here is your deck!\n",
      "Pick a symbol, but please don't tell me which one you chose!\n",
      "['♢', '◥', '◦', '☨', '◸', '✋', '⛮', '◺', '⚔', '⚵', '◶', '⛸', '◹', '⚚', '◻', '◼']\n"
     ]
    }
   ],
   "source": [
    "deck = create_random_deck(deck_size)\n",
    "print(\"Here is your deck!\")\n",
    "print(\"Pick a symbol, but please don't tell me which one you chose!\")\n",
    "print(deck)\n"
   ]
  },
  {
   "cell_type": "code",
   "execution_count": 5,
   "metadata": {
    "collapsed": false
   },
   "outputs": [
    {
     "name": "stdout",
     "output_type": "stream",
     "text": [
      "Pick any number between 1 and 16\n",
      "4\n"
     ]
    }
   ],
   "source": [
    "# your_guess_number\n",
    "print(\"Pick any number between 1 and \" + str(deck_size))\n",
    "ygn = int(input())\n",
    "while(ygn>deck_size or ygn<1):\n",
    "    print(\"Error! your number must be from the range [1,{}]\".format(deck_size))\n",
    "    print(\"Choose any number between 1 and \" + str(deck_size))\n",
    "    ygn = int(input())"
   ]
  },
  {
   "cell_type": "code",
   "execution_count": 6,
   "metadata": {
    "collapsed": true
   },
   "outputs": [],
   "source": [
    "import baseconvert as bc # pip install baseconvert\n",
    "def get_secret_order(ygn, options, choices):\n",
    "    # centralize our number  \n",
    "    cygn = ygn - 1\n",
    "    # change base  \n",
    "    secret_order = list(bc.base(cygn, 10, options))\n",
    "    secret_order.reverse()\n",
    "    while(len(secret_order) < choices):    \n",
    "        secret_order.append(0)\n",
    "    return secret_order"
   ]
  },
  {
   "cell_type": "code",
   "execution_count": 9,
   "metadata": {
    "collapsed": false
   },
   "outputs": [],
   "source": [
    "def step(deck,current_secret, options, choices):\n",
    "    piles=[[] for i in range(options)]\n",
    "    # deal cards\n",
    "    for i in range(deck_size):\n",
    "        piles[i % options].append(deck[i])\n",
    "    for i in range(options):\n",
    "        print(\"Pile \" + str(i) +\" : \",end=\"\")\n",
    "        for j in range(deck_size//options):\n",
    "            print(piles[i][j]+\"\\t\",end=\"\")\n",
    "        print(\"\")\n",
    "    print(\"Which pile your symbol goes into? Please, input the pile number:\")\n",
    "    pile_with_your_label = int(input())\n",
    "    new_deck=[]\n",
    "    j = 0\n",
    "    for i in range(options):\n",
    "        if (i != current_secret):\n",
    "            if(j!=pile_with_your_label):\n",
    "                new_deck+= piles[j]\n",
    "            else:\n",
    "                j+=1\n",
    "                new_deck += piles[j]\n",
    "            j+=1\n",
    "        else:\n",
    "            new_deck += piles[pile_with_your_label]\n",
    "    return new_deck"
   ]
  },
  {
   "cell_type": "code",
   "execution_count": 10,
   "metadata": {
    "collapsed": false
   },
   "outputs": [
    {
     "name": "stdout",
     "output_type": "stream",
     "text": [
      "Pile 0 : ♢\t◸\t⚔\t◹\t\n",
      "Pile 1 : ◥\t✋\t⚵\t⚚\t\n",
      "Pile 2 : ◦\t⛮\t◶\t◻\t\n",
      "Pile 3 : ☨\t◺\t⛸\t◼\t\n",
      "Which pile your symbol goes into? Please, input the pile number:\n",
      "1\n",
      "Pile 0 : ♢\t◦\t☨\t◥\t\n",
      "Pile 1 : ◸\t⛮\t◺\t✋\t\n",
      "Pile 2 : ⚔\t◶\t⛸\t⚵\t\n",
      "Pile 3 : ◹\t◻\t◼\t⚚\t\n",
      "Which pile your symbol goes into? Please, input the pile number:\n",
      "1\n",
      "-------------------\n",
      "Deck printing:\n",
      "1: ◸\n",
      "2: ⛮\n",
      "3: ◺\n",
      "4: ✋ <-- is your symbol!\n"
     ]
    }
   ],
   "source": [
    "secret_order = get_secret_order(ygn, options, choices)\n",
    "for choice in range(choices):\n",
    "    current_secret = secret_order[choice]\n",
    "    deck = step(deck,current_secret, options, choices)\n",
    "\n",
    "print(\"-------------------\")   \n",
    "print(\"Deck printing:\")\n",
    "for i in range(ygn-1):\n",
    "    print(str(i+1) + \": \" + deck[i] )\n",
    "print(str(ygn) + \": \"+ deck[ygn-1] + \" <-- is your symbol!\")"
   ]
  },
  {
   "cell_type": "code",
   "execution_count": null,
   "metadata": {
    "collapsed": true
   },
   "outputs": [],
   "source": []
  }
 ],
 "metadata": {
  "anaconda-cloud": {},
  "kernelspec": {
   "display_name": "Python [Root]",
   "language": "python",
   "name": "Python [Root]"
  },
  "language_info": {
   "codemirror_mode": {
    "name": "ipython",
    "version": 3
   },
   "file_extension": ".py",
   "mimetype": "text/x-python",
   "name": "python",
   "nbconvert_exporter": "python",
   "pygments_lexer": "ipython3",
   "version": "3.5.2"
  }
 },
 "nbformat": 4,
 "nbformat_minor": 0
}
